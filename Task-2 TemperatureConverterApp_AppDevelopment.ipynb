{
 "cells": [
  {
   "cell_type": "code",
   "execution_count": null,
   "id": "82152a5a",
   "metadata": {},
   "outputs": [],
   "source": [
    "import tkinter as tk\n",
    "\n",
    "class TemperatureConverterApp:\n",
    "    def __init__(self, root):\n",
    "        self.root = root\n",
    "        self.root.title(\"Temperature Converter\")\n",
    "\n",
    "        self.celsius_label = tk.Label(root, text=\"Celsius:\")\n",
    "        self.celsius_label.grid(row=0, column=0)\n",
    "\n",
    "        self.celsius_entry = tk.Entry(root)\n",
    "        self.celsius_entry.grid(row=0, column=1)\n",
    "\n",
    "        self.fahrenheit_label = tk.Label(root, text=\"Fahrenheit:\")\n",
    "        self.fahrenheit_label.grid(row=1, column=0)\n",
    "\n",
    "        self.fahrenheit_display = tk.Label(root, text=\"\")\n",
    "        self.fahrenheit_display.grid(row=1, column=1)\n",
    "\n",
    "        self.convert_button = tk.Button(root, text=\"Convert\", command=self.convert_temperature)\n",
    "        self.convert_button.grid(row=2, columnspan=2)\n",
    "\n",
    "    def convert_temperature(self):\n",
    "        try:\n",
    "            celsius = float(self.celsius_entry.get())\n",
    "            fahrenheit = (celsius * 9/5) + 32\n",
    "            self.fahrenheit_display.config(text=f\"{fahrenheit:.2f} °F\")\n",
    "        except ValueError:\n",
    "            self.fahrenheit_display.config(text=\"Invalid input\")\n",
    "\n",
    "root = tk.Tk()\n",
    "app = TemperatureConverterApp(root)\n",
    "root.mainloop()\n"
   ]
  },
  {
   "cell_type": "code",
   "execution_count": null,
   "id": "7cb6eac8",
   "metadata": {},
   "outputs": [],
   "source": []
  }
 ],
 "metadata": {
  "kernelspec": {
   "display_name": "Python 3 (ipykernel)",
   "language": "python",
   "name": "python3"
  },
  "language_info": {
   "codemirror_mode": {
    "name": "ipython",
    "version": 3
   },
   "file_extension": ".py",
   "mimetype": "text/x-python",
   "name": "python",
   "nbconvert_exporter": "python",
   "pygments_lexer": "ipython3",
   "version": "3.11.3"
  }
 },
 "nbformat": 4,
 "nbformat_minor": 5
}
