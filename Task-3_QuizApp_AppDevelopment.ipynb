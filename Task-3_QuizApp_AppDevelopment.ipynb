{
 "cells": [
  {
   "cell_type": "code",
   "execution_count": 1,
   "id": "2f7f3805",
   "metadata": {},
   "outputs": [
    {
     "name": "stdout",
     "output_type": "stream",
     "text": [
      "What is the capital of France?\n",
      "1. Paris\n",
      "2. London\n",
      "3. Berlin\n",
      "Enter your choice (1, 2, 3, ...): 1\n",
      "Which planet is known as the Red Planet?\n",
      "1. Mars\n",
      "2. Jupiter\n",
      "3. Venus\n",
      "Enter your choice (1, 2, 3, ...): 1\n",
      "What is 2 + 2?\n",
      "1. 3\n",
      "2. 4\n",
      "3. 5\n",
      "Enter your choice (1, 2, 3, ...): 2\n",
      "You answered 1 out of 3 questions correctly.\n",
      "Your score: 33.33%\n"
     ]
    }
   ],
   "source": [
    "class Question:\n",
    "    def __init__(self, text, choices, correct_choice):\n",
    "        self.text = text\n",
    "        self.choices = choices\n",
    "        self.correct_choice = correct_choice\n",
    "\n",
    "    def ask_question(self):\n",
    "        print(self.text)\n",
    "        for index, choice in enumerate(self.choices):\n",
    "            print(f\"{index + 1}. {choice}\")\n",
    "        user_choice = int(input(\"Enter your choice (1, 2, 3, ...): \"))\n",
    "        return user_choice == self.correct_choice\n",
    "\n",
    "\n",
    "class Quiz:\n",
    "    def __init__(self):\n",
    "        self.questions = []\n",
    "        self.score = 0\n",
    "\n",
    "    def add_question(self, question):\n",
    "        self.questions.append(question)\n",
    "\n",
    "    def take_quiz(self):\n",
    "        for question in self.questions:\n",
    "            if question.ask_question():\n",
    "                self.score += 1\n",
    "\n",
    "    def display_result(self):\n",
    "        total_questions = len(self.questions)\n",
    "        print(f\"You answered {self.score} out of {total_questions} questions correctly.\")\n",
    "        percentage = (self.score / total_questions) * 100\n",
    "        print(f\"Your score: {percentage:.2f}%\")\n",
    "\n",
    "# Create questions\n",
    "q1 = Question(\"What is the capital of France?\", [\"Paris\", \"London\", \"Berlin\"], 1)\n",
    "q2 = Question(\"Which planet is known as the Red Planet?\", [\"Mars\", \"Jupiter\", \"Venus\"], 0)\n",
    "q3 = Question(\"What is 2 + 2?\", [\"3\", \"4\", \"5\"], 1)\n",
    "\n",
    "# Create quiz\n",
    "quiz = Quiz()\n",
    "quiz.add_question(q1)\n",
    "quiz.add_question(q2)\n",
    "quiz.add_question(q3)\n",
    "\n",
    "# Take the quiz and display the result\n",
    "quiz.take_quiz()\n",
    "quiz.display_result()\n"
   ]
  },
  {
   "cell_type": "code",
   "execution_count": null,
   "id": "5e6b67da",
   "metadata": {},
   "outputs": [],
   "source": []
  }
 ],
 "metadata": {
  "kernelspec": {
   "display_name": "Python 3 (ipykernel)",
   "language": "python",
   "name": "python3"
  },
  "language_info": {
   "codemirror_mode": {
    "name": "ipython",
    "version": 3
   },
   "file_extension": ".py",
   "mimetype": "text/x-python",
   "name": "python",
   "nbconvert_exporter": "python",
   "pygments_lexer": "ipython3",
   "version": "3.11.3"
  }
 },
 "nbformat": 4,
 "nbformat_minor": 5
}
