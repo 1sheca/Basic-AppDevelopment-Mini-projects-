{
 "cells": [
  {
   "cell_type": "code",
   "execution_count": null,
   "id": "5c846815",
   "metadata": {},
   "outputs": [],
   "source": [
    "import tkinter as tk\n",
    "\n",
    "class CalculatorApp:\n",
    "    def __init__(self, root):\n",
    "        self.root = root\n",
    "        self.root.title(\"Calculator\")\n",
    "\n",
    "        self.entry = tk.Entry(root, width=20)\n",
    "        self.entry.grid(row=0, column=0, columnspan=4)\n",
    "\n",
    "        buttons = [\n",
    "            '7', '8', '9', '/',\n",
    "            '4', '5', '6', '*',\n",
    "            '1', '2', '3', '-',\n",
    "            '0', '.', '=', '+'\n",
    "        ]\n",
    "\n",
    "        row_val = 1\n",
    "        col_val = 0\n",
    "\n",
    "        for button in buttons:\n",
    "            tk.Button(root, text=button, padx=20, pady=20, command=lambda b=button: self.button_click(b)).grid(row=row_val, column=col_val)\n",
    "            col_val += 1\n",
    "            if col_val > 3:\n",
    "                col_val = 0\n",
    "                row_val += 1\n",
    "\n",
    "    def button_click(self, char):\n",
    "        if char == \"=\":\n",
    "            try:\n",
    "                result = str(eval(self.entry.get()))\n",
    "                self.entry.delete(0, tk.END)\n",
    "                self.entry.insert(tk.END, result)\n",
    "            except:\n",
    "                self.entry.delete(0, tk.END)\n",
    "                self.entry.insert(tk.END, \"Error\")\n",
    "        else:\n",
    "            self.entry.insert(tk.END, char)\n",
    "\n",
    "root = tk.Tk()\n",
    "app = CalculatorApp(root)\n",
    "root.mainloop()\n"
   ]
  },
  {
   "cell_type": "code",
   "execution_count": null,
   "id": "4cb5908a",
   "metadata": {},
   "outputs": [],
   "source": []
  }
 ],
 "metadata": {
  "kernelspec": {
   "display_name": "Python 3 (ipykernel)",
   "language": "python",
   "name": "python3"
  },
  "language_info": {
   "codemirror_mode": {
    "name": "ipython",
    "version": 3
   },
   "file_extension": ".py",
   "mimetype": "text/x-python",
   "name": "python",
   "nbconvert_exporter": "python",
   "pygments_lexer": "ipython3",
   "version": "3.11.3"
  }
 },
 "nbformat": 4,
 "nbformat_minor": 5
}
